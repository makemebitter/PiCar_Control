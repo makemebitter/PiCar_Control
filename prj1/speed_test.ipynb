{
 "cells": [
  {
   "cell_type": "code",
   "execution_count": 1,
   "metadata": {
    "scrolled": true
   },
   "outputs": [
    {
     "name": "stdout",
     "output_type": "stream",
     "text": [
      "DEBUG \"back_wheels.py\": Set debug off\n",
      "DEBUG \"TB6612.py\": Set debug off\n",
      "DEBUG \"TB6612.py\": Set debug off\n",
      "DEBUG \"PCA9685.py\": Set debug off\n",
      "DEBUG \"front_wheels.py\": Set debug off\n",
      "DEBUG \"front_wheels.py\": Set wheel debug off\n",
      "DEBUG \"Servo.py\": Set debug off\n"
     ]
    }
   ],
   "source": [
    "from picar import front_wheels, back_wheels\n",
    "from picar.SunFounder_PCA9685 import Servo\n",
    "import picar\n",
    "from time import sleep\n",
    "import cv2\n",
    "import cv2.cv as cv\n",
    "import numpy as np\n",
    "import picar\n",
    "\n",
    "picar.setup()\n",
    "\n",
    "bw = back_wheels.Back_Wheels()\n",
    "fw = front_wheels.Front_Wheels()\n",
    "pan_servo = Servo.Servo(1)\n",
    "tilt_servo = Servo.Servo(2)\n",
    "picar.setup()\n",
    "# - left\n",
    "# + right\n",
    "offset = 8\n",
    "pan_servo.offset = 10\n",
    "tilt_servo.offset = 0\n",
    "\n",
    "bw.speed = 0\n",
    "fw.turn(90+offset)\n",
    "pan_servo.write(90)\n",
    "tilt_servo.write(90)\n",
    "\n",
    "motor_speed = 70\n",
    "# 70i*3=127cm, i= 1.27/210 m/s\n",
    "# 70i=1.27/3=0.42333333333333334m/s\n",
    "# 40i*3=0.58 i=0.58/120\n",
    "# 70i*7=2.84 i=2.84/490\n",
    "\n"
   ]
  },
  {
   "cell_type": "code",
   "execution_count": 7,
   "metadata": {},
   "outputs": [
    {
     "data": {
      "text/plain": [
       "0.006047619047619047"
      ]
     },
     "execution_count": 7,
     "metadata": {},
     "output_type": "execute_result"
    }
   ],
   "source": [
    "0.58/120\n",
    "1.27/210"
   ]
  },
  {
   "cell_type": "code",
   "execution_count": 4,
   "metadata": {},
   "outputs": [],
   "source": [
    "bw.speed = motor_speed\n",
    "bw.backward()\n",
    "sleep(0.5)\n",
    "bw.stop()\n",
    "\n"
   ]
  },
  {
   "cell_type": "code",
   "execution_count": 3,
   "metadata": {},
   "outputs": [],
   "source": [
    "bw.speed = motor_speed\n",
    "bw.forward()\n",
    "sleep(0.5)\n",
    "bw.stop()"
   ]
  },
  {
   "cell_type": "code",
   "execution_count": 64,
   "metadata": {},
   "outputs": [],
   "source": [
    "bw.stop()\n",
    "\n",
    "\n",
    "\n"
   ]
  },
  {
   "cell_type": "code",
   "execution_count": 15,
   "metadata": {},
   "outputs": [],
   "source": [
    "\n",
    "2.84\n"
   ]
  },
  {
   "cell_type": "code",
   "execution_count": null,
   "metadata": {},
   "outputs": [],
   "source": []
  }
 ],
 "metadata": {
  "kernelspec": {
   "display_name": "Python 2",
   "language": "python",
   "name": "python2"
  },
  "language_info": {
   "codemirror_mode": {
    "name": "ipython",
    "version": 2
   },
   "file_extension": ".py",
   "mimetype": "text/x-python",
   "name": "python",
   "nbconvert_exporter": "python",
   "pygments_lexer": "ipython2",
   "version": "2.7.13"
  }
 },
 "nbformat": 4,
 "nbformat_minor": 2
}
