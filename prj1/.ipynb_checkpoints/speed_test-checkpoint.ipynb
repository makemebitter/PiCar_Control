{
 "cells": [
  {
   "cell_type": "code",
   "execution_count": 60,
   "metadata": {},
   "outputs": [
    {
     "name": "stdout",
     "output_type": "stream",
     "text": [
      "DEBUG \"back_wheels.py\": Set debug off\n",
      "DEBUG \"TB6612.py\": Set debug off\n",
      "DEBUG \"TB6612.py\": Set debug off\n",
      "DEBUG \"PCA9685.py\": Set debug off\n",
      "DEBUG \"front_wheels.py\": Set debug off\n",
      "DEBUG \"front_wheels.py\": Set wheel debug off\n",
      "DEBUG \"Servo.py\": Set debug off\n"
     ]
    }
   ],
   "source": [
    "from picar import front_wheels, back_wheels\n",
    "from picar.SunFounder_PCA9685 import Servo\n",
    "import picar\n",
    "from time import sleep\n",
    "import cv2\n",
    "import cv2.cv as cv\n",
    "import numpy as np\n",
    "import picar\n",
    "\n",
    "picar.setup()\n",
    "\n",
    "bw = back_wheels.Back_Wheels()\n",
    "fw = front_wheels.Front_Wheels()\n",
    "pan_servo = Servo.Servo(1)\n",
    "tilt_servo = Servo.Servo(2)\n",
    "picar.setup()\n",
    "# - left\n",
    "# + right\n",
    "fw.offset = 6.9\n",
    "pan_servo.offset = 10\n",
    "tilt_servo.offset = 0\n",
    "\n",
    "bw.speed = 0\n",
    "fw.turn(90+fw.offset)\n",
    "pan_servo.write(90)\n",
    "tilt_servo.write(90)\n",
    "\n",
    "motor_speed = 70\n",
    "\n",
    "\n"
   ]
  },
  {
   "cell_type": "code",
   "execution_count": 61,
   "metadata": {},
   "outputs": [],
   "source": [
    "bw.speed = motor_speed\n",
    "bw.backward()\n",
    "sleep(3)\n",
    "bw.stop()\n",
    "\n"
   ]
  },
  {
   "cell_type": "code",
   "execution_count": 57,
   "metadata": {},
   "outputs": [],
   "source": [
    "bw.speed = motor_speed\n",
    "bw.forward()\n",
    "sleep(3)\n",
    "bw.stop()"
   ]
  },
  {
   "cell_type": "code",
   "execution_count": 38,
   "metadata": {},
   "outputs": [],
   "source": [
    "bw.stop()\n",
    "\n",
    "\n",
    "\n"
   ]
  },
  {
   "cell_type": "code",
   "execution_count": 15,
   "metadata": {},
   "outputs": [],
   "source": [
    "\n",
    "\n"
   ]
  },
  {
   "cell_type": "code",
   "execution_count": null,
   "metadata": {},
   "outputs": [],
   "source": []
  }
 ],
 "metadata": {
  "kernelspec": {
   "display_name": "Python 2",
   "language": "python",
   "name": "python2"
  },
  "language_info": {
   "codemirror_mode": {
    "name": "ipython",
    "version": 2
   },
   "file_extension": ".py",
   "mimetype": "text/x-python",
   "name": "python",
   "nbconvert_exporter": "python",
   "pygments_lexer": "ipython2",
   "version": "2.7.13"
  }
 },
 "nbformat": 4,
 "nbformat_minor": 2
}
